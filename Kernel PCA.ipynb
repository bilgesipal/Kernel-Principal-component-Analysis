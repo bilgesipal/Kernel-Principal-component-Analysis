{
 "cells": [
  {
   "cell_type": "markdown",
   "metadata": {},
   "source": [
    "# Data Set Iris- import"
   ]
  },
  {
   "cell_type": "code",
   "execution_count": 154,
   "metadata": {
    "scrolled": true
   },
   "outputs": [
    {
     "data": {
      "text/html": [
       "<div>\n",
       "<style scoped>\n",
       "    .dataframe tbody tr th:only-of-type {\n",
       "        vertical-align: middle;\n",
       "    }\n",
       "\n",
       "    .dataframe tbody tr th {\n",
       "        vertical-align: top;\n",
       "    }\n",
       "\n",
       "    .dataframe thead th {\n",
       "        text-align: right;\n",
       "    }\n",
       "</style>\n",
       "<table border=\"1\" class=\"dataframe\">\n",
       "  <thead>\n",
       "    <tr style=\"text-align: right;\">\n",
       "      <th></th>\n",
       "      <th>sepal_len</th>\n",
       "      <th>sepal_wid</th>\n",
       "      <th>petal_len</th>\n",
       "      <th>petal_wid</th>\n",
       "      <th>class</th>\n",
       "    </tr>\n",
       "  </thead>\n",
       "  <tbody>\n",
       "    <tr>\n",
       "      <th>145</th>\n",
       "      <td>6.7</td>\n",
       "      <td>3.0</td>\n",
       "      <td>5.2</td>\n",
       "      <td>2.3</td>\n",
       "      <td>Iris-virginica</td>\n",
       "    </tr>\n",
       "    <tr>\n",
       "      <th>146</th>\n",
       "      <td>6.3</td>\n",
       "      <td>2.5</td>\n",
       "      <td>5.0</td>\n",
       "      <td>1.9</td>\n",
       "      <td>Iris-virginica</td>\n",
       "    </tr>\n",
       "    <tr>\n",
       "      <th>147</th>\n",
       "      <td>6.5</td>\n",
       "      <td>3.0</td>\n",
       "      <td>5.2</td>\n",
       "      <td>2.0</td>\n",
       "      <td>Iris-virginica</td>\n",
       "    </tr>\n",
       "    <tr>\n",
       "      <th>148</th>\n",
       "      <td>6.2</td>\n",
       "      <td>3.4</td>\n",
       "      <td>5.4</td>\n",
       "      <td>2.3</td>\n",
       "      <td>Iris-virginica</td>\n",
       "    </tr>\n",
       "    <tr>\n",
       "      <th>149</th>\n",
       "      <td>5.9</td>\n",
       "      <td>3.0</td>\n",
       "      <td>5.1</td>\n",
       "      <td>1.8</td>\n",
       "      <td>Iris-virginica</td>\n",
       "    </tr>\n",
       "  </tbody>\n",
       "</table>\n",
       "</div>"
      ],
      "text/plain": [
       "     sepal_len  sepal_wid  petal_len  petal_wid           class\n",
       "145        6.7        3.0        5.2        2.3  Iris-virginica\n",
       "146        6.3        2.5        5.0        1.9  Iris-virginica\n",
       "147        6.5        3.0        5.2        2.0  Iris-virginica\n",
       "148        6.2        3.4        5.4        2.3  Iris-virginica\n",
       "149        5.9        3.0        5.1        1.8  Iris-virginica"
      ]
     },
     "execution_count": 154,
     "metadata": {},
     "output_type": "execute_result"
    }
   ],
   "source": [
    "\n",
    "import pandas as pd\n",
    "\n",
    "df = pd.read_csv(\n",
    "    filepath_or_buffer='https://archive.ics.uci.edu/ml/machine-learning-databases/iris/iris.data', \n",
    "    header=None, \n",
    "    sep=',')\n",
    "\n",
    "df.columns=['sepal_len', 'sepal_wid', 'petal_len', 'petal_wid', 'class']\n",
    "df.dropna(how=\"all\", inplace=True) # drops the empty line at file-end\n",
    "\n",
    "df.tail()"
   ]
  },
  {
   "cell_type": "code",
   "execution_count": 155,
   "metadata": {},
   "outputs": [],
   "source": [
    "# split data table into data X and class labels y\n",
    "\n",
    "X = df.iloc[:,0:4].values\n",
    "y = df.iloc[:,4].values"
   ]
  },
  {
   "cell_type": "markdown",
   "metadata": {},
   "source": [
    "$\\mathbf{x^T} = \\begin{pmatrix} x_1 \\\\ x_2 \\\\ x_3 \\\\ x_4 \\end{pmatrix} \n",
    "= \\begin{pmatrix} \\text{sepal length} \\\\ \\text{sepal width} \\\\\\text{petal length} \\\\ \\text{petal width} \\end{pmatrix}$"
   ]
  },
  {
   "cell_type": "markdown",
   "metadata": {},
   "source": [
    "$X$ is a $M\\times d$ matrix where $M$ denotes the number of data and $d$ denotes the dimension of the data. In this case $M=120$ and $d=4.$ We want to show that the last two columns petal_len and petal_wid are redundant for clsutering and classification purposes. "
   ]
  },
  {
   "cell_type": "code",
   "execution_count": 156,
   "metadata": {},
   "outputs": [],
   "source": [
    "import numpy as np  \n",
    "import matplotlib.pyplot as plt  \n",
    "from sklearn.model_selection import train_test_split  \n",
    "X_train, X_test, y_train, y_test = train_test_split(X, y, test_size = 0.20)  "
   ]
  },
  {
   "cell_type": "markdown",
   "metadata": {},
   "source": [
    "# Using Kernel matrix instead of Covariance Matrix"
   ]
  },
  {
   "cell_type": "markdown",
   "metadata": {},
   "source": [
    "Use any kernel matrix you wish which satisfies the Mercer`s criteria to be kernel for Reproducing kernel  hilbert space (RKH). Here we compute $K(\\mathbf{x}_i,\\mathbf{x}_j) = \\exp{-\\frac{\\|\\mathbf{x}_i-\\mathbf{x}_j\\|_2^2}{s^2}}$ as kernel. In the assignment use the Semantic Diffusion Kernel."
   ]
  },
  {
   "cell_type": "code",
   "execution_count": 157,
   "metadata": {},
   "outputs": [],
   "source": [
    "import scipy\n",
    "from scipy.spatial.distance import pdist, squareform\n",
    "  # this is an Mxd matrix, where M is number of items and d the  dimension\n",
    "s=np.var(X_train)\n",
    "pairwise_dists = squareform(pdist(X_train, 'euclidean'))\n",
    "\n",
    "K=scipy.exp(-pairwise_dists**2 / s**2)\n",
    "M=len(K[:,0])\n"
   ]
  },
  {
   "cell_type": "markdown",
   "metadata": {},
   "source": [
    "In order to centralize the Kernel we need to the following operations;\n",
    "Compute the $M \\times M$ matrix $J$ which is a matrix that has $1$ on the \n",
    "diagonal and $-\\frac{1}{M}$ on the other positions and compute  the transpose of $J,$ i.e. $J^T.$ Then the modified Gram matrix is \n",
    "$$K_c = J*K*J^T.$$"
   ]
  },
  {
   "cell_type": "code",
   "execution_count": 158,
   "metadata": {},
   "outputs": [],
   "source": [
    "s=(M,M)\n",
    "I = np.zeros(s)\n",
    "for i in range(M):\n",
    "     for j in range(M):\n",
    "            I[i][j] = 1 / M \n",
    "J = np.identity(M)-I\n",
    "                    \n",
    "K_c = np.dot(np.dot(J, K), J.transpose())\n",
    "\n",
    "K_c = np.dot(np.dot(J, K), J.T)\n",
    "# print(K_c)"
   ]
  },
  {
   "cell_type": "markdown",
   "metadata": {},
   "source": [
    "\n",
    "Let us perform an SVD, to get the eigenvalue decomposition."
   ]
  },
  {
   "cell_type": "code",
   "execution_count": 159,
   "metadata": {
    "scrolled": true
   },
   "outputs": [],
   "source": [
    "u,s,v = np.linalg.svd(K_c)\n",
    "#print(u) eigenvector\n",
    "#print(s) eigenvalue"
   ]
  },
  {
   "cell_type": "markdown",
   "metadata": {},
   "source": [
    "Now we will reduce the dimension from 4 to 2"
   ]
  },
  {
   "cell_type": "code",
   "execution_count": 160,
   "metadata": {},
   "outputs": [],
   "source": [
    "eigval=s\n",
    "\n",
    "eig_pairs = [(np.abs(eigval[i]), u[:,i]) for i in range(len(eigval))]\n",
    "\n",
    "\n",
    "\n",
    "matrix_w = np.hstack((eig_pairs[0][1].reshape(M,1), \n",
    "                      eig_pairs[1][1].reshape(M,1)))\n",
    "\n",
    "#print('Matrix W:\\n ,\\n',W)"
   ]
  },
  {
   "cell_type": "markdown",
   "metadata": {},
   "source": [
    "Now we check the norm of the eigenvectors"
   ]
  },
  {
   "cell_type": "code",
   "execution_count": 162,
   "metadata": {},
   "outputs": [
    {
     "data": {
      "text/plain": [
       "1.0000000000000009"
      ]
     },
     "execution_count": 162,
     "metadata": {},
     "output_type": "execute_result"
    }
   ],
   "source": [
    "from numpy import linalg as LA\n",
    "import math \n",
    "np.linalg.norm(matrix_w[:,0])"
   ]
  },
  {
   "cell_type": "markdown",
   "metadata": {},
   "source": [
    "For the projection  we compute the following, we choose the new dimension to be 2, i.e. d=2:\n",
    "As a result of the svd we have the eigen values and eigen vectors in the feature space. That means  we have $$K_c W_i=\\lambda_i W_i.$$\n",
    "but we need the eigenvectors for $X$ not for the mapped  ones. After some calculation we can show that  the eigenvectors we need are\n",
    "$$\\tilde{w_i}=\\frac{1}{\\sqrt{\\lambda_i}}.$$\n",
    "Hence we need $\\tilde{W}=\\Lambda^{-1/2}W.$\n"
   ]
  },
  {
   "cell_type": "code",
   "execution_count": 163,
   "metadata": {},
   "outputs": [],
   "source": [
    "import math  \n",
    "size=(d,d)\n",
    "Gamma = np.zeros(size)\n",
    "for i in range(d):\n",
    "         Gamma[i][i]=1/math.sqrt(np.abs(eigval[i]))\n",
    "\n",
    "W=np.dot(matrix_w,Gamma)"
   ]
  },
  {
   "cell_type": "markdown",
   "metadata": {},
   "source": [
    "We compute the principal components in the feature space and project the  data. "
   ]
  },
  {
   "cell_type": "code",
   "execution_count": 164,
   "metadata": {},
   "outputs": [],
   "source": [
    "Y = np.dot(K,matrix_w)\n"
   ]
  },
  {
   "cell_type": "markdown",
   "metadata": {},
   "source": [
    "Let us plot the data by giving color to different flowers. $Y[:, 0]$ is the projection of the data to first principal component and $Y[:, 1]$ is the projection of the data to second principal component"
   ]
  },
  {
   "cell_type": "code",
   "execution_count": 165,
   "metadata": {
    "scrolled": false
   },
   "outputs": [
    {
     "data": {
      "image/png": "[encoded data removed]",
      "text/plain": [
       "<Figure size 432x288 with 1 Axes>"
      ]
     },
     "metadata": {
      "needs_background": "light"
     },
     "output_type": "display_data"
    }
   ],
   "source": [
    "import matplotlib.pyplot as plt\n",
    "dfcolor = pd.DataFrame([['Iris-setosa','red'],['Iris-versicolor','blue'],['Iris-virginica','yellow']],columns=['class','Color'])\n",
    "mergeddf = pd.merge(df,dfcolor,on='class')\n",
    "plt.scatter(Y[:, 0], Y[:, 1], c=mergeddf['Color'])\n",
    "\n",
    "plt.show()"
   ]
  }
 ],
 "metadata": {
  "kernelspec": {
   "display_name": "Python 3",
   "language": "python",
   "name": "python3"
  },
  "language_info": {
   "codemirror_mode": {
    "name": "ipython",
    "version": 3
   },
   "file_extension": ".py",
   "mimetype": "text/x-python",
   "name": "python",
   "nbconvert_exporter": "python",
   "pygments_lexer": "ipython3",
   "version": "3.7.0"
  }
 },
 "nbformat": 4,
 "nbformat_minor": 2
}
